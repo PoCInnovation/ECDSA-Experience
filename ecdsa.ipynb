{
 "cells": [
  {
   "cell_type": "markdown",
   "id": "66663b0f",
   "metadata": {},
   "source": [
    "# ECDSA Experience"
   ]
  },
  {
   "cell_type": "markdown",
   "id": "ac100873",
   "metadata": {},
   "source": [
    "## Welcome !\n",
    "This experience was made to help you step up about **Elliptic Curve Digital Signature Algorithm (ECDSA)** learn as much as possible and get a lot of knowledge about it.\\\n",
    "It's entirely interactive using Jupyter Notebook, so don't hesitate to do some tests on your own.\n",
    "\n",
    "> This workshop is destinated to anyone who would like to learn about ECDSA. We will cover easy and hard stuff, so good luck !\n",
    "\n",
    "Its purpose will be to expand and improve the capacity of our little robot, and maybe even get to its final form.\\\n",
    "I hope you guys are ready, and are excited to get into it !\\\n",
    "Throughout this workshop, you will learn a lot of new stuff so don’t forget to take notes and don’t be shy, the supervising staff is here to answer all your questions.\n",
    "\n",
    "I hope you're ready. Let’s go!"
   ]
  },
  {
   "cell_type": "markdown",
   "id": "5c123f89",
   "metadata": {},
   "source": [
    "## What is Elliptic Curve Digital Signature Algorithm\n",
    "**ECDSA** does the same thing as any other **digital signing signature**, but more efficiently. it is used to create **ECDSA certificates** which is a type of electronic document used for **authentication** of the owner of the certificate, information about the owner of the certificate, and the signature of the issuer of the certificate, who is a verified trusted entity.\n",
    "\n",
    "It works using an elliptic curve, you can find some example on this [wikipedia page](https://en.wikipedia.org/wiki/Elliptic_curve_point_multiplication#/media/File:ECClines.svg).\n",
    "\n",
    "Lots of operations will be done on this curve for the encryption like the **Elliptic curve point multiplication** which is the operation of successively adding a point along an elliptic curve to itself repeatedly. It is used in **Elliptic Curve Cryptography (ECC)** as a means of producing a one-way function.\n",
    "\n",
    "This operation is composed by many other operations. Let's begin."
   ]
  },
  {
   "cell_type": "markdown",
   "id": "d84e0a55",
   "metadata": {},
   "source": [
    "## Dependencies\n",
    "> Before starting, you need to install some dependencies.\n",
    "\n",
    "- **PyCryptodome** is a self-contained Python package of low-level cryptographic primitives."
   ]
  },
  {
   "cell_type": "code",
   "execution_count": null,
   "id": "67bce6d6",
   "metadata": {},
   "outputs": [],
   "source": [
    "!pip3 install pycryptodome"
   ]
  },
  {
   "cell_type": "markdown",
   "id": "16b6e8c5",
   "metadata": {},
   "source": [
    "## Point operations\n",
    "There are three commonly defined operations for elliptic curve points, addition, doubling and negation.\n",
    "\n",
    "Let's start with the :\n",
    "\n",
    "### Point Negation\n",
    "Point negation is finding such a point, that adding it to itself will result in point at infinity.\n",
    "\n",
    "### Point Doubling\n",
    "Where the points P and Q are coincident (at the same coordinates), addition is similar, except that there is no well-defined straight line through P, so the operation is closed using a limiting case, the tangent to the curve, E, at P.\n",
    "\n",
    "### Point addition\n",
    "With 2 distinct points : **P** and **Q**, addition is defined as the negation of the point resulting from the intersection of the curve, **E**, and the straight line defined by the points P and Q, giving the point, **R**.\n",
    "\n",
    "Here is the algorithm of this operation :\n",
    "[Reference](https://en.wikipedia.org/wiki/Elliptic_curve_point_multiplication#Point_addition)\n",
    "\n",
    "```\n",
    "Algorithm for the addition of two points: P + Q\n",
    "(a) If P = O, then P + Q = Q.\n",
    "(b) Otherwise, if Q = O, then P + Q = P.\n",
    "(c) Otherwise, write P = (x1, y1) and Q = (x2, y2).\n",
    "(d) If x1 = x2 and y1 = -y2, then P + Q = O.\n",
    "(e) Otherwise:\n",
    "  (e1) if P ≠ Q: λ = (y2 - y1) / (x2 - x1)\n",
    "  (e2) if P = Q: λ = (3.x1^2 + a) / 2.y1 (. Is for multiplication and ^ for power.)\n",
    "(f) x3 = λ^2 - x1 - x2,     y3 = λ(x1 -x3) - y1\n",
    "(g) P + Q = (x3, y3)\n",
    "\n",
    "```\n",
    "> **_NOTE:_**  In finite field we do not \"divide\" by an integer, we instead multiply by the modular inverse of a number."
   ]
  },
  {
   "cell_type": "markdown",
   "id": "e7e51939",
   "metadata": {},
   "source": [
    "### ~ *Little explanation* ~\n",
    "\n",
    "- ```from Crypto.Util.number import inverse``` : We will need to use this function which is the **Multiplicative Modular Inverse** \n",
    "\n",
    "- ```p``` and ```q``` : are 2 points of the curve with **tuple** type, these variables are used to store multiple items in a single variable. It is one of 4 built-in data types in Python used to store collections of data, the other 3 are **List**, **Set**, and **Dictionary**, all with different qualities and usage.\n",
    "\n",
    "- ```E``` : is an elliptic curve with **dictionary** type, this variable stores data values in **key:value** pairs. Items are ordered, changeable, and does not allow duplicates. With\n",
    "  - ```a``` : which is the\n",
    "  - ```b``` : which is the \n",
    "  - ```p``` : which is the value of the final point.\n",
    "  \n",
    "  The value \"**E**\" is given by the following equation : \n",
    "  \n",
    "  ```y^2 = x^3 + a * x + b```\n",
    "\n",
    "- ```assert``` : is a keyword when debugging code, it lets you test if a condition in your code returns ```True```, if not, the program will raise an ```AssertionError```\n",
    "\n",
    "- ```p: tuple``` : We set the type of the variable **p**, Here we told the program that we **TAKE** and we **WANT** **p** AS a **tuple** variable.\n",
    "\n",
    "- ```-> tuple``` : defining this at the end of a function declaration permits to tell to the progam that we want a **tuple** variable as the result. It depends of which variable is after the arrow.\n",
    "\n",
    "Knowing that, let's code this algorithm in python."
   ]
  },
  {
   "cell_type": "code",
   "execution_count": null,
   "id": "f52f7f05",
   "metadata": {},
   "outputs": [],
   "source": [
    "#!/usr/bin/env python3\n",
    "\n",
    "from Crypto.Util.number import inverse\n",
    "\n",
    "class EC_PO:\n",
    "    def __init__(self, a, b, p, G=(0, 1), n=None):\n",
    "        self.a: int = a\n",
    "        self.b: int = b\n",
    "        self.p: int = p\n",
    "        self.E: dict = {'a': a, 'b': b, 'p': p}\n",
    "        self.G: tuple = G\n",
    "        self.n: int = n\n",
    "        self.zero: tuple(int, int) = (0, 0)\n",
    "\n",
    "    # Point operations (Point at infinity, Point negation, Point addition, Point doubling)\n",
    "    def point_at_infinity(self):\n",
    "        return self.zero\n",
    "\n",
    "    def point_negate(self, P: tuple):\n",
    "        # here write the code for point_negate\n",
    "        pass\n",
    "\n",
    "    def point_addition(self, P: tuple, Q: tuple):\n",
    "        # here write the code for point_addition\n",
    "        pass\n",
    "\n",
    "    def point_doubling(self, P: tuple):\n",
    "        # here write the code for point_doubling\n",
    "        pass\n",
    "\n",
    "E = {'a': 879, 'b': 4586, 'p': 7089} # E: Y2 = X3 + 879 X + 4586, p: 7089\n",
    "ec_po = EC_PO(E['a'], E['b'], E['p'])\n",
    "\n",
    "x = (214421, 2143314)\n",
    "y = (5546, 2134)\n",
    "\n",
    "assert ec_po.point_negate(y) == (5546, -2134)\n",
    "assert ec_po.point_addition(x, y) == (2487, 2122)\n",
    "assert ec_po.point_doubling(x) == (1766, 417)"
   ]
  },
  {
   "cell_type": "markdown",
   "id": "7ae28481",
   "metadata": {},
   "source": [
    "## Point Multiplication\n",
    "Now let's talk about the ```Double and Add algorithm```. This algorithm permits to calculate a point faster. But be carefull, you will need the ```point addition``` function to solve this.\n",
    "\n",
    "Here is the algorithm : \n",
    "[Reference](https://en.wikipedia.org/wiki/Elliptic_curve_point_multiplication#Double-and-add)\n",
    "```\n",
    "Double and Add algorithm for the scalar multiplication of point P by n\n",
    "Input: P in E(Fp) and an integer n > 0\n",
    "(a) Set Q = P and R = O.\n",
    "(b) Loop while n > 0.\n",
    "  (b1) If n ≡ 1 mod 2, set R = R + Q.\n",
    "  (b2) Set Q = 2 Q and n = ⌊n/2⌋.\n",
    "  (b3) If n > 0, continue with loop at Step (b).\n",
    "(c) Return the point R, which equals nP.\n",
    "```\n"
   ]
  },
  {
   "cell_type": "code",
   "execution_count": null,
   "id": "88cbb7cb",
   "metadata": {},
   "outputs": [],
   "source": [
    "#!/usr/bin/env python3\n",
    "\n",
    "class EC_PM:\n",
    "    def __init__(self, a, b, p, G=(0, 1), n=None):\n",
    "        self.a: int = a\n",
    "        self.b: int = b\n",
    "        self.p: int = p\n",
    "        self.E: dict = {'a': a, 'b': b, 'p': p}\n",
    "        self.G: tuple = G\n",
    "        self.n: int = n\n",
    "        self.zero: tuple(int, int) = (0, 0)\n",
    "        self.EC_PO_class = EC_PO(a, b, p, G, n)\n",
    "\n",
    "    # Point multiplication (Double-and-add)\n",
    "    def scalar_mult(self, n: int, P: tuple):\n",
    "        # here write the code for the scalar multiplication\n",
    "        pass\n",
    "\n",
    "\n",
    "E = {'a': 879, 'b': 4586, 'p': 7089} # E: Y2 = X3 + 879 X + 4586, p: 7089\n",
    "x = (214421, 2143314)\n",
    "\n",
    "ecpm = EC_PM(E['a'], E['b'], E['p'])\n",
    "assert ecpm.scalar_mult(1337, x) == (7007, 3255)\n"
   ]
  }
 ],
 "metadata": {
  "kernelspec": {
   "display_name": "Python 3.10.6 64-bit",
   "language": "python",
   "name": "python3"
  },
  "language_info": {
   "codemirror_mode": {
    "name": "ipython",
    "version": 3
   },
   "file_extension": ".py",
   "mimetype": "text/x-python",
   "name": "python",
   "nbconvert_exporter": "python",
   "pygments_lexer": "ipython3",
   "version": "3.10.6"
  },
  "vscode": {
   "interpreter": {
    "hash": "b0fa6594d8f4cbf19f97940f81e996739fb7646882a419484c72d19e05852a7e"
   }
  }
 },
 "nbformat": 4,
 "nbformat_minor": 5
}
